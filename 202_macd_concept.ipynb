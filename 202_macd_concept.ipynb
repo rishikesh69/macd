{
 "cells": [
  {
   "cell_type": "markdown",
   "metadata": {},
   "source": [
    "# Moving Average Convergence Divergence"
   ]
  },
  {
   "cell_type": "markdown",
   "metadata": {},
   "source": [
    "### MACD logic\n",
    "- moving average convergence divergence\n",
    "- moving average\n",
    "- short moving average (window = 50, fast moving) example\n",
    "- long moving average (window = 100, slow moving) example\n",
    "- macd = short ma - long ma\n",
    "- signal line = ma of macd (window = 9)\n",
    "- signal generation\n",
    "\n"
   ]
  },
  {
   "cell_type": "markdown",
   "metadata": {},
   "source": [
    "### Moving Average Convergence Divergence (MACD)\n",
    "* Moving Average Convergence Divergence (MACD): A Market timing Indicator\n",
    "- Short term moving window\n",
    "- Long term moving window\n",
    "- simple moving average average\n",
    "- weighted moving average\n",
    "- exponential moving average\n",
    "\n",
    "    \n",
    "\n"
   ]
  },
  {
   "cell_type": "markdown",
   "metadata": {},
   "source": [
    "### Adding image\n",
    "\n",
    "<img src=\"img/macd1.png\" alt=\"drawing\" style=\"width:500px;\"/>"
   ]
  },
  {
   "cell_type": "markdown",
   "metadata": {},
   "source": [
    "<img src=\"img/macd2.png\" alt=\"drawing\" style=\"width:800px;\"/>"
   ]
  },
  {
   "cell_type": "markdown",
   "metadata": {},
   "source": [
    "<img src=\"img/macd3.png\" alt=\"drawing\" style=\"width:600px;\"/>"
   ]
  },
  {
   "cell_type": "code",
   "execution_count": null,
   "metadata": {},
   "outputs": [],
   "source": []
  },
  {
   "cell_type": "code",
   "execution_count": null,
   "metadata": {},
   "outputs": [],
   "source": []
  },
  {
   "cell_type": "markdown",
   "metadata": {},
   "source": [
    "![](img1/macd3.png)"
   ]
  },
  {
   "cell_type": "markdown",
   "metadata": {},
   "source": [
    "### MACD \n",
    "- MACD = short term exponential moving average - long term exponential moving average\n",
    "- When market trends are improving, short term averages will rise more quickly than long term averages. MACD line turn up\n",
    "- When market trands are losing strength, shorter term averages will tend to flatten, ultimately falling below longer term averages if declines continue. MACD line fall below 0\n",
    "- Weaking trends are reflected in changes of direction of MACD reading, but clear trend reversals are not usually considered as confirmed until other indications, which will be discussed, take place.\n",
    "- During the course of price movement, short term moving averages will move apart (diverge) and move together (converge) with longer term moving average- hence, the indicator name \"moving average convergence-divergence\""
   ]
  },
  {
   "cell_type": "markdown",
   "metadata": {},
   "source": [
    "### MACD Buy and Sell Signal\n",
    "- Short term moving average = STMA\n",
    "- Long term moving average = LTMA\n",
    "- MACD = STMA - LTMA\n",
    "- When STMA crosses LTMA from top, this is a signal to sell the stock\n",
    "    - When MACD touches zero line from top, this is a signal to sell stock\n",
    "- When STMA crosses LTMA from bottom, this is a signal to buy the stock\n",
    "    - When MACD touches zero line from bottom, this is a signal to buy stock"
   ]
  },
  {
   "cell_type": "markdown",
   "metadata": {},
   "source": [
    "### Logic (Develop methods for these task)\n",
    "- Get price data (adjusted closing price)\n",
    "- calculate STMA, LTMA, MACD\n",
    "- Get buy and sell signals"
   ]
  },
  {
   "cell_type": "markdown",
   "metadata": {},
   "source": [
    "### Signal line\n",
    "- The signal line is an exponential average of MACD levels, not of the price of the investment. \n",
    "- Signal lines are usually created employing 3-day to 9-day exponential averages of MACD lines.\n",
    "- The shorter the average the more sensitive will be the signal line."
   ]
  },
  {
   "cell_type": "markdown",
   "metadata": {},
   "source": [
    "### Buy and Cell signal\n",
    "- Changes in MACD direction (from down to up and vice versa) and crossing of MACD lines above and below 0 carry significance.\n",
    "- Crosses of MACD from below to above its signal line and from above to below its signal line carry additional significance of their own.\n",
    "- As a general rule, crossing of MACD from below to above its signal line may be taken as confirmation of buy signals orignally indicated when changes in direction have taken places in MACD from down to up.\n",
    "- Signal line crossing take place after MACD lines change direction \n",
    "    \n",
    "    \n"
   ]
  },
  {
   "cell_type": "markdown",
   "metadata": {},
   "source": [
    "### Flow chart"
   ]
  },
  {
   "cell_type": "markdown",
   "metadata": {},
   "source": [
    "### Get plugin in intellij\n",
    "- diagram.net"
   ]
  },
  {
   "cell_type": "markdown",
   "metadata": {},
   "source": [
    "<img src='img/flow_macd1.png'>"
   ]
  },
  {
   "cell_type": "markdown",
   "metadata": {},
   "source": [
    "### Sginal and trade\n",
    "- Buy: 1\n",
    "- sell : -1\n",
    "- Hold: 0"
   ]
  },
  {
   "cell_type": "markdown",
   "metadata": {},
   "source": []
  },
  {
   "cell_type": "code",
   "execution_count": null,
   "metadata": {},
   "outputs": [],
   "source": [
    "for stock in the stock list:\n",
    "    BB 0.9\n",
    "    RSI 0.05\n",
    "    MACD 0.01\n",
    "    ROC 0.04\n",
    "    \n",
    "    "
   ]
  }
 ],
 "metadata": {
  "kernelspec": {
   "display_name": "Python 3 (ipykernel)",
   "language": "python",
   "name": "python3"
  },
  "language_info": {
   "codemirror_mode": {
    "name": "ipython",
    "version": 3
   },
   "file_extension": ".py",
   "mimetype": "text/x-python",
   "name": "python",
   "nbconvert_exporter": "python",
   "pygments_lexer": "ipython3",
   "version": "3.9.7"
  }
 },
 "nbformat": 4,
 "nbformat_minor": 2
}
